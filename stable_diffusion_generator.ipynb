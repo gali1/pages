{
    "cells": [
        {
            "cell_type": "code",
            "execution_count": null,
            "metadata": {},
            "source": [
                "import torch\n",
                "from diffusers import StableDiffusionPipeline\n",
                "from IPython.display import display, Image\n",
                "import time\n",
                "import ipywidgets as widgets\n",
                "from tqdm.notebook import tqdm\n",
                "\n",
                "# Load the Stable Diffusion model\n",
                "model_id = \"runwayml/stable-diffusion-v1-5\"\n",
                "pipe = StableDiffusionPipeline.from_pretrained(model_id, torch_dtype=torch.float16)\n",
                "pipe = pipe.to(\"cuda\" if torch.cuda.is_available() else \"cpu\")\n",
                "\n",
                "def generate_image(prompt):\n",
                "    start_time = time.time()\n",
                "    \n",
                "    with tqdm(total=100, desc=\"Generating image\", bar_format='{l_bar}{bar}') as pbar:\n",
                "        for i in range(10):\n",
                "            time.sleep(0.1)  # Simulate steps in generation process\n",
                "            pbar.update(10)\n",
                "        image = pipe(prompt).images[0]\n",
                "    \n",
                "    end_time = time.time()\n",
                "    \n",
                "    # Save the image\n",
                "    image_path = f\"generated_image_{int(time.time())}.png\"\n",
                "    image.save(image_path)\n",
                "    \n",
                "    print(f\"Image generated in {end_time - start_time:.2f} seconds\")\n",
                "    print(f\"Image saved as {image_path}\")\n",
                "    \n",
                "    # Display the image\n",
                "    display(Image(filename=image_path))\n",
                "\n",
                "# Create widgets for user interaction\n",
                "text_input = widgets.Text(description=\"Image description:\", style={'description_width': 'initial'})\n",
                "generate_button = widgets.Button(description=\"Generate\")\n",
                "output = widgets.Output()\n",
                "\n",
                "def on_button_click(b):\n",
                "    with output:\n",
                "        output.clear_output()\n",
                "        generate_image(text_input.value)\n",
                "\n",
                "generate_button.on_click(on_button_click)\n",
                "\n",
                "# Display the UI\n",
                "display(widgets.VBox([text_input, generate_button, output]))\n"
            ]
        }
    ],
    "metadata": {
        "kernelspec": {
            "display_name": "Python 3",
            "language": "python",
            "name": "python3"
        },
        "language_info": {
            "codemirror_mode": {
                "name": "ipython",
                "version": 3
            },
            "file_extension": ".py",
            "mimetype": "text/x-python",
            "name": "python",
            "nbconvert_exporter": "python",
            "pygments_lexer": "ipython3",
            "version": "3.10.0"
        }
    },
    "nbformat": 4,
    "nbformat_minor": 4
}